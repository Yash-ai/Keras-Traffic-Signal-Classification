{
 "cells": [
  {
   "cell_type": "markdown",
   "metadata": {
    "colab_type": "text",
    "id": "HmRAX2GJiWL9"
   },
   "source": [
    "# Traffic Sign Classification with Keras\n",
    "\n"
   ]
  },
  {
   "cell_type": "code",
   "execution_count": 1,
   "metadata": {
    "colab": {
     "base_uri": "https://localhost:8080/",
     "height": 70
    },
    "colab_type": "code",
    "executionInfo": {
     "elapsed": 9633,
     "status": "ok",
     "timestamp": 1554301404602,
     "user": {
      "displayName": "Prashant Sahu",
      "photoUrl": "https://lh3.googleusercontent.com/-ompx6lyKrkc/AAAAAAAAAAI/AAAAAAAAALk/kbQk9IjXg44/s64/photo.jpg",
      "userId": "17861245123904241513"
     },
     "user_tz": -330
    },
    "id": "yYOwSaC6iWMK",
    "outputId": "81aa55dd-3cb5-42b0-c41b-94e72bbb0866"
   },
   "outputs": [
    {
     "name": "stderr",
     "output_type": "stream",
     "text": [
      "Train Dataset: 120MB [00:06, 17.2MB/s]                           \n",
      "Test Dataset: 38.8MB [00:01, 30.4MB/s]                           "
     ]
    },
    {
     "name": "stdout",
     "output_type": "stream",
     "text": [
      "Training and Test data downloaded.\n"
     ]
    },
    {
     "name": "stderr",
     "output_type": "stream",
     "text": [
      "\n"
     ]
    }
   ],
   "source": [
    "from urllib.request import urlretrieve\n",
    "from os.path import isfile\n",
    "from tqdm import tqdm\n",
    "\n",
    "class DLProgress(tqdm):\n",
    "    last_block = 0\n",
    "\n",
    "    def hook(self, block_num=1, block_size=1, total_size=None):\n",
    "        self.total = total_size\n",
    "        self.update((block_num - self.last_block) * block_size)\n",
    "        self.last_block = block_num\n",
    "\n",
    "if not isfile('train.p'):\n",
    "    with DLProgress(unit='B', unit_scale=True, miniters=1, desc='Train Dataset') as pbar:\n",
    "        urlretrieve(\n",
    "            'https://s3.amazonaws.com/udacity-sdc/datasets/german_traffic_sign_benchmark/train.p',\n",
    "            'train.p',\n",
    "            pbar.hook)\n",
    "\n",
    "if not isfile('test.p'):\n",
    "    with DLProgress(unit='B', unit_scale=True, miniters=1, desc='Test Dataset') as pbar:\n",
    "        urlretrieve(\n",
    "            'https://s3.amazonaws.com/udacity-sdc/datasets/german_traffic_sign_benchmark/test.p',\n",
    "            'test.p',\n",
    "            pbar.hook)\n",
    "\n",
    "print('Training and Test data downloaded.')"
   ]
  },
  {
   "cell_type": "markdown",
   "metadata": {
    "colab_type": "text",
    "id": "6VOF9K3-iWM9"
   },
   "source": [
    "## Overview\n",
    "\n",
    "Here are the steps you'll take to build the network:\n",
    "\n",
    "1. Load the training data.\n",
    "2. Preprocess the data.\n",
    "3. Build a feedforward neural network to classify traffic signs.\n",
    "4. Build a convolutional neural network to classify traffic signs.\n",
    "5. Evaluate the final neural network on testing data.\n"
   ]
  },
  {
   "cell_type": "code",
   "execution_count": 0,
   "metadata": {
    "colab": {},
    "colab_type": "code",
    "id": "ucpK74jfiWNA"
   },
   "outputs": [],
   "source": [
    "import pickle\n",
    "import numpy as np\n",
    "import math"
   ]
  },
  {
   "cell_type": "markdown",
   "metadata": {
    "colab_type": "text",
    "id": "RKYG2116iWNm"
   },
   "source": [
    "## Load the Data\n",
    "\n",
    "Start by importing the data from the pickle file."
   ]
  },
  {
   "cell_type": "code",
   "execution_count": 16,
   "metadata": {
    "colab": {
     "base_uri": "https://localhost:8080/",
     "height": 34
    },
    "colab_type": "code",
    "executionInfo": {
     "elapsed": 1758,
     "status": "ok",
     "timestamp": 1554306601315,
     "user": {
      "displayName": "Prashant Sahu",
      "photoUrl": "https://lh3.googleusercontent.com/-ompx6lyKrkc/AAAAAAAAAAI/AAAAAAAAALk/kbQk9IjXg44/s64/photo.jpg",
      "userId": "17861245123904241513"
     },
     "user_tz": -330
    },
    "id": "JRNls9WhiWNo",
    "outputId": "7d30d97a-9189-40f5-8d41-70dbe2efcc9f"
   },
   "outputs": [
    {
     "data": {
      "text/plain": [
       "dict"
      ]
     },
     "execution_count": 16,
     "metadata": {
      "tags": []
     },
     "output_type": "execute_result"
    }
   ],
   "source": [
    "with open('train.p', 'rb') as f:\n",
    "    data = pickle.load(f)\n",
    "\n",
    "type(data)"
   ]
  },
  {
   "cell_type": "code",
   "execution_count": 17,
   "metadata": {
    "colab": {
     "base_uri": "https://localhost:8080/",
     "height": 34
    },
    "colab_type": "code",
    "executionInfo": {
     "elapsed": 2748,
     "status": "ok",
     "timestamp": 1554306654781,
     "user": {
      "displayName": "Prashant Sahu",
      "photoUrl": "https://lh3.googleusercontent.com/-ompx6lyKrkc/AAAAAAAAAAI/AAAAAAAAALk/kbQk9IjXg44/s64/photo.jpg",
      "userId": "17861245123904241513"
     },
     "user_tz": -330
    },
    "id": "3jvvZfXS5ChS",
    "outputId": "c4e1e5b4-e856-40de-c2ca-ee089a561b65"
   },
   "outputs": [
    {
     "name": "stdout",
     "output_type": "stream",
     "text": [
      "dict_keys(['features', 'labels'])\n"
     ]
    }
   ],
   "source": [
    "print(data.keys())\n",
    "\n"
   ]
  },
  {
   "cell_type": "code",
   "execution_count": 28,
   "metadata": {
    "colab": {
     "base_uri": "https://localhost:8080/",
     "height": 87
    },
    "colab_type": "code",
    "executionInfo": {
     "elapsed": 3479,
     "status": "ok",
     "timestamp": 1554306993006,
     "user": {
      "displayName": "Prashant Sahu",
      "photoUrl": "https://lh3.googleusercontent.com/-ompx6lyKrkc/AAAAAAAAAAI/AAAAAAAAALk/kbQk9IjXg44/s64/photo.jpg",
      "userId": "17861245123904241513"
     },
     "user_tz": -330
    },
    "id": "yzspuoof5Njs",
    "outputId": "dc36535c-ad64-4b00-de27-a6b56c520d45"
   },
   "outputs": [
    {
     "name": "stdout",
     "output_type": "stream",
     "text": [
      "(39209, 32, 32, 3)\n",
      "(39209,)\n",
      "42\n"
     ]
    },
    {
     "data": {
      "text/plain": [
       "numpy.ndarray"
      ]
     },
     "execution_count": 28,
     "metadata": {
      "tags": []
     },
     "output_type": "execute_result"
    }
   ],
   "source": [
    "# TODO: Load the feature data to the variable X_train\n",
    "X_train = data['features']\n",
    "# TODO: Load the label data to the variable y_train\n",
    "y_train = data['labels']\n",
    "\n",
    "print(X_train.shape)\n",
    "print(y_train.shape)\n",
    "print(y_train[-1])\n",
    "type(X_train)"
   ]
  },
  {
   "cell_type": "markdown",
   "metadata": {
    "colab_type": "text",
    "id": "ipKB7hRxiWOM"
   },
   "source": [
    "## Preprocess the Data\n",
    "\n",
    "1. Shuffle the data\n",
    "2. Normalize the features using Min-Max scaling between -0.5 and 0.5\n",
    "3. One-Hot Encode the labels\n",
    "\n",
    "### Shuffle the data\n",
    "Hint: You can use the [scikit-learn shuffle](http://scikit-learn.org/stable/modules/generated/sklearn.utils.shuffle.html) function to shuffle the data."
   ]
  },
  {
   "cell_type": "code",
   "execution_count": 0,
   "metadata": {
    "colab": {},
    "colab_type": "code",
    "id": "mvDsurqQiWOQ"
   },
   "outputs": [],
   "source": [
    "# TODO: Shuffle the data\n",
    "from sklearn.utils import shuffle\n",
    "X_train, y_train = shuffle(X_train, y_train)"
   ]
  },
  {
   "cell_type": "code",
   "execution_count": 32,
   "metadata": {
    "colab": {
     "base_uri": "https://localhost:8080/",
     "height": 52
    },
    "colab_type": "code",
    "executionInfo": {
     "elapsed": 1128,
     "status": "ok",
     "timestamp": 1554307202198,
     "user": {
      "displayName": "Prashant Sahu",
      "photoUrl": "https://lh3.googleusercontent.com/-ompx6lyKrkc/AAAAAAAAAAI/AAAAAAAAALk/kbQk9IjXg44/s64/photo.jpg",
      "userId": "17861245123904241513"
     },
     "user_tz": -330
    },
    "id": "jmWzxc5W7JvV",
    "outputId": "939773c7-e69e-46d2-fd93-09801a385d37"
   },
   "outputs": [
    {
     "name": "stdout",
     "output_type": "stream",
     "text": [
      "5\n",
      "1\n"
     ]
    }
   ],
   "source": [
    "print(y_train[0]) # label for the 1st image\n",
    "print(y_train[-1])  # label for the last image"
   ]
  },
  {
   "cell_type": "markdown",
   "metadata": {
    "colab_type": "text",
    "id": "TK-uxRWYiWPA"
   },
   "source": [
    "### Normalize the features\n"
   ]
  },
  {
   "cell_type": "code",
   "execution_count": 0,
   "metadata": {
    "colab": {},
    "colab_type": "code",
    "id": "bUxhfrIpiWPC"
   },
   "outputs": [],
   "source": [
    "# TODO: Normalize the data features to the variable X_normalized\n",
    "X_min = 0\n",
    "X_max = 255\n",
    "a = -0.5\n",
    "b = 0.5\n",
    "X_normalized = a + ((X_train - X_min)*(b-a)/ (X_max - X_min))\n"
   ]
  },
  {
   "cell_type": "code",
   "execution_count": 34,
   "metadata": {
    "colab": {
     "base_uri": "https://localhost:8080/",
     "height": 879
    },
    "colab_type": "code",
    "executionInfo": {
     "elapsed": 1364,
     "status": "ok",
     "timestamp": 1554307441319,
     "user": {
      "displayName": "Prashant Sahu",
      "photoUrl": "https://lh3.googleusercontent.com/-ompx6lyKrkc/AAAAAAAAAAI/AAAAAAAAALk/kbQk9IjXg44/s64/photo.jpg",
      "userId": "17861245123904241513"
     },
     "user_tz": -330
    },
    "id": "uvgfwSmK8Rym",
    "outputId": "b85b9fc6-5609-413b-9ad8-82e688f169bb"
   },
   "outputs": [
    {
     "name": "stdout",
     "output_type": "stream",
     "text": [
      "[[[-0.40980392 -0.4254902  -0.42941176]\n",
      "  [-0.39803922 -0.41372549 -0.40980392]\n",
      "  [-0.37843137 -0.39411765 -0.39803922]\n",
      "  ...\n",
      "  [-0.34313725 -0.37843137 -0.39019608]\n",
      "  [-0.34313725 -0.37058824 -0.39019608]\n",
      "  [-0.33921569 -0.3627451  -0.38627451]]\n",
      "\n",
      " [[-0.40980392 -0.4254902  -0.42941176]\n",
      "  [-0.40196078 -0.41372549 -0.40588235]\n",
      "  [-0.38627451 -0.39803922 -0.39803922]\n",
      "  ...\n",
      "  [-0.34313725 -0.3745098  -0.38627451]\n",
      "  [-0.33921569 -0.36666667 -0.38627451]\n",
      "  [-0.32745098 -0.35490196 -0.38235294]]\n",
      "\n",
      " [[-0.40588235 -0.4254902  -0.42941176]\n",
      "  [-0.40980392 -0.42156863 -0.41764706]\n",
      "  [-0.39019608 -0.39803922 -0.40196078]\n",
      "  ...\n",
      "  [-0.33921569 -0.37058824 -0.38627451]\n",
      "  [-0.32745098 -0.35490196 -0.3745098 ]\n",
      "  [-0.30392157 -0.33921569 -0.36666667]]\n",
      "\n",
      " ...\n",
      "\n",
      " [[-0.32352941 -0.37058824 -0.39803922]\n",
      "  [-0.34313725 -0.3745098  -0.39803922]\n",
      "  [-0.35882353 -0.3745098  -0.39411765]\n",
      "  ...\n",
      "  [-0.30392157 -0.33921569 -0.3627451 ]\n",
      "  [-0.3        -0.33921569 -0.36666667]\n",
      "  [-0.30392157 -0.34313725 -0.37843137]]\n",
      "\n",
      " [[-0.31960784 -0.36666667 -0.39019608]\n",
      "  [-0.34705882 -0.37843137 -0.40196078]\n",
      "  [-0.3627451  -0.38235294 -0.40196078]\n",
      "  ...\n",
      "  [-0.31176471 -0.34313725 -0.37058824]\n",
      "  [-0.30784314 -0.34313725 -0.37058824]\n",
      "  [-0.30392157 -0.33921569 -0.36666667]]\n",
      "\n",
      " [[-0.32745098 -0.36666667 -0.39019608]\n",
      "  [-0.34313725 -0.3745098  -0.39803922]\n",
      "  [-0.3627451  -0.39019608 -0.41372549]\n",
      "  ...\n",
      "  [-0.31176471 -0.34705882 -0.38235294]\n",
      "  [-0.31176471 -0.34313725 -0.37058824]\n",
      "  [-0.31960784 -0.35098039 -0.37058824]]]\n"
     ]
    }
   ],
   "source": [
    "print(X_normalized[0])"
   ]
  },
  {
   "cell_type": "markdown",
   "metadata": {
    "colab_type": "text",
    "id": "jaKe_6y6iWP3"
   },
   "source": [
    "### One-Hot Encode the labels\n",
    "Hint: You can use the [scikit-learn LabelBinarizer](http://scikit-learn.org/stable/modules/generated/sklearn.preprocessing.LabelBinarizer.html) function to one-hot encode the labels."
   ]
  },
  {
   "cell_type": "code",
   "execution_count": 0,
   "metadata": {
    "colab": {},
    "colab_type": "code",
    "id": "I-Pg60_hiWP_"
   },
   "outputs": [],
   "source": [
    "# TODO: One Hot encode the labels to the variable y_one_hot\n",
    "from sklearn import preprocessing \n",
    "lb = preprocessing.LabelBinarizer()\n",
    "lb.fit(y_train)\n",
    "y_one_hot =lb.transform(y_train)"
   ]
  },
  {
   "cell_type": "code",
   "execution_count": 38,
   "metadata": {
    "colab": {
     "base_uri": "https://localhost:8080/",
     "height": 52
    },
    "colab_type": "code",
    "executionInfo": {
     "elapsed": 1272,
     "status": "ok",
     "timestamp": 1554307890173,
     "user": {
      "displayName": "Prashant Sahu",
      "photoUrl": "https://lh3.googleusercontent.com/-ompx6lyKrkc/AAAAAAAAAAI/AAAAAAAAALk/kbQk9IjXg44/s64/photo.jpg",
      "userId": "17861245123904241513"
     },
     "user_tz": -330
    },
    "id": "4c9JtSfr90Zq",
    "outputId": "f410fe10-9652-4f8c-d157-e37b2a86bdab"
   },
   "outputs": [
    {
     "data": {
      "text/plain": [
       "array([0, 1, 0, 0, 0, 0, 0, 0, 0, 0, 0, 0, 0, 0, 0, 0, 0, 0, 0, 0, 0, 0,\n",
       "       0, 0, 0, 0, 0, 0, 0, 0, 0, 0, 0, 0, 0, 0, 0, 0, 0, 0, 0, 0, 0])"
      ]
     },
     "execution_count": 38,
     "metadata": {
      "tags": []
     },
     "output_type": "execute_result"
    }
   ],
   "source": [
    "y_one_hot[-1]"
   ]
  },
  {
   "cell_type": "markdown",
   "metadata": {
    "colab_type": "text",
    "id": "Y4JUdA05iWQX"
   },
   "source": [
    "## Keras Sequential Model\n",
    "```python\n",
    "from keras.models import Sequential\n",
    "\n",
    "# Create the Sequential model\n",
    "model = Sequential()\n",
    "```\n",
    "The `keras.models.Sequential` class is a wrapper for the neural network model. Just like many of the class models in scikit-learn, it provides common functions like `fit()`, `evaluate()`, and `compile()`.  We'll cover these functions as we get to them.  Let's start looking at the layers of the model.\n",
    "\n",
    "## Keras Layer\n",
    "A Keras layer is just like a neural network layer.  It can be fully connected, max pool, activation, etc.  You can add a layer to the model using the model's `add()` function.  For example, a simple model would look like this:\n",
    "```python\n",
    "from keras.models import Sequential\n",
    "from keras.layers.core import Dense, Activation, Flatten\n",
    "\n",
    "# Create the Sequential model\n",
    "model = Sequential()\n",
    "\n",
    "# 1st Layer - Add a flatten layer\n",
    "model.add(Flatten(input_shape=(32, 32, 3)))\n",
    "\n",
    "# 2nd Layer - Add a fully connected layer\n",
    "model.add(Dense(100))\n",
    "\n",
    "# 3rd Layer - Add a ReLU activation layer\n",
    "model.add(Activation('relu'))\n",
    "\n",
    "# 4th Layer - Add a fully connected layer\n",
    "model.add(Dense(60))\n",
    "\n",
    "# 5th Layer - Add a ReLU activation layer\n",
    "model.add(Activation('relu'))\n",
    "```\n",
    "Keras will automatically infer the shape of all layers after the first layer.  This means you only have to set the input dimensions for the first layer.\n",
    "\n",
    "The first layer from above, `model.add(Flatten(input_shape=(32, 32, 3)))`, sets the input dimension to (32, 32, 3) and output dimension to (3072=32\\*32\\*3).  The second layer takes in the output of the first layer and sets the output dimenions to (100).  This chain of passing output to the next layer continues until the last layer, which is the output of the model."
   ]
  },
  {
   "cell_type": "markdown",
   "metadata": {
    "colab_type": "text",
    "id": "FrrWu3t1iWQY"
   },
   "source": [
    "## Build a Multi-Layer Feedforward Network\n",
    "\n",
    "Build a multi-layer feedforward neural network to classify the traffic sign images.\n",
    "\n",
    "1. Set the first layer to a `Flatten` layer with the `input_shape` set to (32, 32, 3)\n",
    "2. Set the second layer to `Dense` layer width to 128 output. \n",
    "3. Use a ReLU activation function after the second layer.\n",
    "4. Set the output layer width to 43, since there are 43 classes in the dataset.\n",
    "5. Use a softmax activation function after the output layer.\n",
    "\n",
    "To get started, review the Keras documentation about [models](https://keras.io/models/sequential/) and [layers](https://keras.io/layers/core/).\n",
    "\n",
    "The Keras example of a [Multi-Layer Perceptron](https://github.com/fchollet/keras/blob/master/examples/mnist_mlp.py) network is similar to what you need to do here. Use that as a guide, but keep in mind that there are a number of differences."
   ]
  },
  {
   "cell_type": "code",
   "execution_count": 0,
   "metadata": {
    "colab": {},
    "colab_type": "code",
    "id": "MsYGHqXbiWQZ"
   },
   "outputs": [],
   "source": [
    "# TODO: Build a Multi-layer feedforward neural network with Keras here.\n",
    "from keras.models import Sequential\n",
    "from keras.layers.core import Dense, Activation, Flatten \n",
    "model = Sequential()\n",
    "model.add(Flatten(input_shape = (32,32,3)))  # This is the input layer\n",
    "model.add(Dense(128))         # This is the hidden layer with 128 neurons\n",
    "model.add(Activation('relu'))\n",
    "model.add(Dense(43))         # This is the output layer\n",
    "model.add(Activation('softmax'))"
   ]
  },
  {
   "cell_type": "markdown",
   "metadata": {
    "colab_type": "text",
    "id": "FI0oetxSiWQn"
   },
   "source": [
    ",## Training a Sequential Model\n",
    "You built a multi-layer neural network in Keras, now let's look at training a neural network.\n",
    "```python\n",
    "from keras.models import Sequential\n",
    "from keras.layers.core import Dense, Activation\n",
    "\n",
    "model = Sequential()\n",
    "...\n",
    "\n",
    "# Configures the learning process and metrics\n",
    "model.compile('sgd', 'mean_squared_error', ['accuracy'])\n",
    "\n",
    "# Train the model\n",
    "# History is a record of training loss and metrics\n",
    "history = model.fit(x_train_data, Y_train_data, batch_size=128, nb_epoch=2, validation_split=0.2)\n",
    "\n",
    "# Calculate test score\n",
    "test_score = model.evaluate(x_test_data, Y_test_data)\n",
    "```\n",
    "The code above configures, trains, and tests the model.  The line `model.compile('sgd', 'mean_squared_error', ['accuracy'])` configures the model's optimizer to `'sgd'`(stochastic gradient descent), the loss to `'mean_squared_error'`, and the metric to `'accuracy'`.  \n",
    "\n",
    "You can find more optimizers [here](https://keras.io/optimizers/), loss functions [here](https://keras.io/objectives/#available-objectives), and more metrics [here](https://keras.io/metrics/#available-metrics).\n",
    "\n",
    "To train the model, use the `fit()` function as shown in `model.fit(x_train_data, Y_train_data, batch_size=128, nb_epoch=2, validation_split=0.2)`.  The `validation_split` parameter will split a percentage of the training dataset to be used to validate the model.  The model can be further tested with the test dataset using the `evaluate()` function as shown in the last line."
   ]
  },
  {
   "cell_type": "markdown",
   "metadata": {
    "colab_type": "text",
    "id": "RIziY98OiWQo"
   },
   "source": [
    "## Train the Network\n",
    "\n",
    "1. Compile the network using adam optimizer and categorical_crossentropy loss function.\n",
    "2. Train the network for ten epochs and validate with 20% of the training data."
   ]
  },
  {
   "cell_type": "code",
   "execution_count": 40,
   "metadata": {
    "colab": {
     "base_uri": "https://localhost:8080/",
     "height": 442
    },
    "colab_type": "code",
    "executionInfo": {
     "elapsed": 44331,
     "status": "ok",
     "timestamp": 1554308205516,
     "user": {
      "displayName": "Prashant Sahu",
      "photoUrl": "https://lh3.googleusercontent.com/-ompx6lyKrkc/AAAAAAAAAAI/AAAAAAAAALk/kbQk9IjXg44/s64/photo.jpg",
      "userId": "17861245123904241513"
     },
     "user_tz": -330
    },
    "id": "KtrjxlghiWQp",
    "outputId": "6ccbad51-e273-4d35-b359-6d7f03dfab39"
   },
   "outputs": [
    {
     "name": "stderr",
     "output_type": "stream",
     "text": [
      "/usr/local/lib/python3.6/dist-packages/ipykernel_launcher.py:3: UserWarning: The `nb_epoch` argument in `fit` has been renamed `epochs`.\n",
      "  This is separate from the ipykernel package so we can avoid doing imports until\n"
     ]
    },
    {
     "name": "stdout",
     "output_type": "stream",
     "text": [
      "Train on 31367 samples, validate on 7842 samples\n",
      "Epoch 1/10\n",
      "31367/31367 [==============================] - 5s 168us/step - loss: 1.7498 - acc: 0.5430 - val_loss: 1.0329 - val_acc: 0.7313\n",
      "Epoch 2/10\n",
      "31367/31367 [==============================] - 5s 145us/step - loss: 0.8184 - acc: 0.7877 - val_loss: 0.7510 - val_acc: 0.7830\n",
      "Epoch 3/10\n",
      "31367/31367 [==============================] - 4s 129us/step - loss: 0.5884 - acc: 0.8483 - val_loss: 0.5309 - val_acc: 0.8628\n",
      "Epoch 4/10\n",
      "31367/31367 [==============================] - 4s 129us/step - loss: 0.4665 - acc: 0.8800 - val_loss: 0.4400 - val_acc: 0.8777\n",
      "Epoch 5/10\n",
      "31367/31367 [==============================] - 4s 130us/step - loss: 0.3907 - acc: 0.8968 - val_loss: 0.4481 - val_acc: 0.8676\n",
      "Epoch 6/10\n",
      "31367/31367 [==============================] - 4s 131us/step - loss: 0.3509 - acc: 0.9078 - val_loss: 0.3376 - val_acc: 0.9208\n",
      "Epoch 7/10\n",
      "31367/31367 [==============================] - 4s 131us/step - loss: 0.3004 - acc: 0.9214 - val_loss: 0.4242 - val_acc: 0.8734\n",
      "Epoch 8/10\n",
      "31367/31367 [==============================] - 4s 129us/step - loss: 0.2842 - acc: 0.9241 - val_loss: 0.3239 - val_acc: 0.9095\n",
      "Epoch 9/10\n",
      "31367/31367 [==============================] - 4s 128us/step - loss: 0.2608 - acc: 0.9296 - val_loss: 0.3550 - val_acc: 0.9042\n",
      "Epoch 10/10\n",
      "31367/31367 [==============================] - 4s 126us/step - loss: 0.2334 - acc: 0.9394 - val_loss: 0.3004 - val_acc: 0.9092\n"
     ]
    }
   ],
   "source": [
    "# TODO: Compile and train the model here.\n",
    "\n",
    "model.compile('adam', 'categorical_crossentropy', ['accuracy'])\n",
    "history = model.fit(X_normalized, y_one_hot, batch_size=120, nb_epoch=10, validation_split= 0.2)"
   ]
  },
  {
   "cell_type": "markdown",
   "metadata": {
    "colab_type": "text",
    "id": "K6mSlJm8iWQ9"
   },
   "source": [
    "## Convolutions\n",
    "1. Re-construct the previous network\n",
    "2. Add a [convolutional layer](https://keras.io/layers/convolutional/#convolution2d) with 32 filters, a 3x3 kernel, and valid padding before the flatten layer.\n",
    "3. Add a ReLU activation after the convolutional layer.\n",
    "\n",
    "Hint 1: The Keras example of a [convolutional neural network](https://github.com/fchollet/keras/blob/master/examples/mnist_cnn.py) for MNIST would be a good example to review."
   ]
  },
  {
   "cell_type": "code",
   "execution_count": 41,
   "metadata": {
    "colab": {
     "base_uri": "https://localhost:8080/",
     "height": 72
    },
    "colab_type": "code",
    "executionInfo": {
     "elapsed": 1747,
     "status": "ok",
     "timestamp": 1554308615586,
     "user": {
      "displayName": "Prashant Sahu",
      "photoUrl": "https://lh3.googleusercontent.com/-ompx6lyKrkc/AAAAAAAAAAI/AAAAAAAAALk/kbQk9IjXg44/s64/photo.jpg",
      "userId": "17861245123904241513"
     },
     "user_tz": -330
    },
    "id": "chgFNaUviWRF",
    "outputId": "2224cb6f-9c03-4609-cf9b-d305bf0666b5"
   },
   "outputs": [
    {
     "name": "stderr",
     "output_type": "stream",
     "text": [
      "/usr/local/lib/python3.6/dist-packages/ipykernel_launcher.py:5: UserWarning: Update your `Conv2D` call to the Keras 2 API: `Conv2D(32, (3, 3), input_shape=(32, 32, 3..., padding=\"valid\")`\n",
      "  \"\"\"\n"
     ]
    }
   ],
   "source": [
    "# TODO: Re-construct the network and add a convolutional layer before the flatten layer.\n",
    "from keras.models import Sequential\n",
    "from keras.layers.core import Dense, Flatten, Activation\n",
    "from keras.layers import Convolution2D\n",
    "model = Sequential()\n",
    "model.add(Convolution2D(32, 3, 3, border_mode='valid', input_shape=(32,32,3)))\n",
    "model.add(Activation('relu'))\n",
    "model.add(Flatten())  # the convoluted image if flattened to a single vector\n",
    "model.add(Dense(128))  # The flattened image is fed to the hidden layer (fully-connected layer)\n",
    "model.add(Activation('relu'))\n",
    "model.add(Dense(43))   # final output layer\n",
    "model.add(Activation('softmax'))\n"
   ]
  },
  {
   "cell_type": "markdown",
   "metadata": {
    "colab_type": "text",
    "id": "Kkv5QW84iWRW"
   },
   "source": [
    "## Pooling\n",
    "1. Re-construct the network\n",
    "2. Add a 2x2 [max pooling layer](https://keras.io/layers/pooling/#maxpooling2d) immediately following your convolutional layer."
   ]
  },
  {
   "cell_type": "code",
   "execution_count": 42,
   "metadata": {
    "colab": {
     "base_uri": "https://localhost:8080/",
     "height": 72
    },
    "colab_type": "code",
    "executionInfo": {
     "elapsed": 1229,
     "status": "ok",
     "timestamp": 1554308913648,
     "user": {
      "displayName": "Prashant Sahu",
      "photoUrl": "https://lh3.googleusercontent.com/-ompx6lyKrkc/AAAAAAAAAAI/AAAAAAAAALk/kbQk9IjXg44/s64/photo.jpg",
      "userId": "17861245123904241513"
     },
     "user_tz": -330
    },
    "id": "KWwUUjweiWRY",
    "outputId": "3cf7cb8d-42e0-4423-ac19-9fd44bccd66f"
   },
   "outputs": [
    {
     "name": "stderr",
     "output_type": "stream",
     "text": [
      "/usr/local/lib/python3.6/dist-packages/ipykernel_launcher.py:5: UserWarning: Update your `Conv2D` call to the Keras 2 API: `Conv2D(32, (3, 3), input_shape=(32, 32, 3..., padding=\"valid\")`\n",
      "  \"\"\"\n"
     ]
    }
   ],
   "source": [
    "# TODO: Re-construct the network and add a pooling layer after the convolutional layer.\n",
    "from keras.models import Sequential\n",
    "from keras.layers.core import Dense, Flatten, Activation\n",
    "from keras.layers import Convolution2D, pooling\n",
    "model = Sequential()\n",
    "model.add(Convolution2D(32, 3, 3, border_mode='valid', input_shape=(32,32,3)))  \n",
    "# output convulted image has size (30,30,32)\n",
    "model.add(pooling.MaxPooling2D(pool_size=(2, 2))) \n",
    "model.add(Activation('relu'))\n",
    "model.add(Flatten()) # is to convert the outout of the MaxPoling LAyer into a single row of pixels >> 1-D\n",
    "model.add(Dense(128))  # H.L. with 128 neurons >> fully-connected layer\n",
    "model.add(Activation('relu'))\n",
    "model.add(Dense(43))   # output layer with 43 neurons are there as 43 classes\n",
    "model.add(Activation('softmax'))"
   ]
  },
  {
   "cell_type": "markdown",
   "metadata": {
    "colab_type": "text",
    "id": "wbmUl02siWRi"
   },
   "source": [
    "## Dropout\n",
    "1. Re-construct the network\n",
    "2. Add a [dropout](https://keras.io/layers/core/#dropout) layer after the pooling layer. Set the dropout rate to 50%."
   ]
  },
  {
   "cell_type": "code",
   "execution_count": 43,
   "metadata": {
    "colab": {
     "base_uri": "https://localhost:8080/",
     "height": 72
    },
    "colab_type": "code",
    "executionInfo": {
     "elapsed": 1322,
     "status": "ok",
     "timestamp": 1554308983472,
     "user": {
      "displayName": "Prashant Sahu",
      "photoUrl": "https://lh3.googleusercontent.com/-ompx6lyKrkc/AAAAAAAAAAI/AAAAAAAAALk/kbQk9IjXg44/s64/photo.jpg",
      "userId": "17861245123904241513"
     },
     "user_tz": -330
    },
    "id": "3oH6BohWiWRj",
    "outputId": "8454e67f-a027-4641-f058-ce173fafe10c"
   },
   "outputs": [
    {
     "name": "stderr",
     "output_type": "stream",
     "text": [
      "/usr/local/lib/python3.6/dist-packages/ipykernel_launcher.py:5: UserWarning: Update your `Conv2D` call to the Keras 2 API: `Conv2D(32, (3, 3), input_shape=(32, 32, 3..., padding=\"valid\")`\n",
      "  \"\"\"\n"
     ]
    }
   ],
   "source": [
    "# TODO: Re-construct the network and add dropout after the pooling layer.\n",
    "from keras.models import Sequential\n",
    "from keras.layers.core import Dense, Flatten, Activation, Dropout\n",
    "from keras.layers import Convolution2D, pooling\n",
    "model = Sequential()\n",
    "model.add(Convolution2D(32, 3, 3, border_mode='valid', input_shape=(32,32,3)))\n",
    "model.add(pooling.MaxPooling2D(pool_size=(2, 2)))\n",
    "model.add(Dropout(0.5))\n",
    "model.add(Activation('relu'))\n",
    "model.add(Flatten()) \n",
    "model.add(Dense(128))\n",
    "model.add(Activation('relu'))\n",
    "model.add(Dense(43))\n",
    "model.add(Activation('softmax'))"
   ]
  },
  {
   "cell_type": "markdown",
   "metadata": {
    "colab_type": "text",
    "id": "gH_sBlEJiWR3"
   },
   "source": [
    "## Optimization\n",
    "Congratulations! You've built a neural network with convolutions, pooling, dropout, and fully-connected layers, all in just a few lines of code.\n",
    "\n",
    "Have fun with the model and see how well you can do! Add more layers, or regularization, or different padding, or batches, or more training epochs.\n",
    "\n",
    "What is the best validation accuracy you can achieve?"
   ]
  },
  {
   "cell_type": "code",
   "execution_count": 44,
   "metadata": {
    "colab": {
     "base_uri": "https://localhost:8080/",
     "height": 459
    },
    "colab_type": "code",
    "executionInfo": {
     "elapsed": 396194,
     "status": "ok",
     "timestamp": 1554309440474,
     "user": {
      "displayName": "Prashant Sahu",
      "photoUrl": "https://lh3.googleusercontent.com/-ompx6lyKrkc/AAAAAAAAAAI/AAAAAAAAALk/kbQk9IjXg44/s64/photo.jpg",
      "userId": "17861245123904241513"
     },
     "user_tz": -330
    },
    "id": "KrNwE3wsiWSC",
    "outputId": "ccc556a5-a6e6-4fad-a4cd-65e5b29500b6"
   },
   "outputs": [
    {
     "name": "stderr",
     "output_type": "stream",
     "text": [
      "/usr/local/lib/python3.6/dist-packages/ipykernel_launcher.py:5: UserWarning: Update your `Conv2D` call to the Keras 2 API: `Conv2D(32, (3, 3), input_shape=(32, 32, 3..., padding=\"valid\")`\n",
      "  \"\"\"\n",
      "/usr/local/lib/python3.6/dist-packages/ipykernel_launcher.py:17: UserWarning: The `nb_epoch` argument in `fit` has been renamed `epochs`.\n"
     ]
    },
    {
     "name": "stdout",
     "output_type": "stream",
     "text": [
      "Train on 31367 samples, validate on 7842 samples\n",
      "Epoch 1/10\n",
      "31367/31367 [==============================] - 40s 1ms/step - loss: 1.6369 - acc: 0.5692 - val_loss: 0.7254 - val_acc: 0.7979\n",
      "Epoch 2/10\n",
      "31367/31367 [==============================] - 40s 1ms/step - loss: 0.5086 - acc: 0.8677 - val_loss: 0.3277 - val_acc: 0.9263\n",
      "Epoch 3/10\n",
      "31367/31367 [==============================] - 40s 1ms/step - loss: 0.3077 - acc: 0.9211 - val_loss: 0.2222 - val_acc: 0.9473\n",
      "Epoch 4/10\n",
      "31367/31367 [==============================] - 39s 1ms/step - loss: 0.2237 - acc: 0.9421 - val_loss: 0.1730 - val_acc: 0.9612\n",
      "Epoch 5/10\n",
      "31367/31367 [==============================] - 39s 1ms/step - loss: 0.1791 - acc: 0.9538 - val_loss: 0.1444 - val_acc: 0.9672\n",
      "Epoch 6/10\n",
      "31367/31367 [==============================] - 39s 1ms/step - loss: 0.1525 - acc: 0.9592 - val_loss: 0.1361 - val_acc: 0.9685\n",
      "Epoch 7/10\n",
      "31367/31367 [==============================] - 39s 1ms/step - loss: 0.1344 - acc: 0.9643 - val_loss: 0.1235 - val_acc: 0.9695\n",
      "Epoch 8/10\n",
      "31367/31367 [==============================] - 39s 1ms/step - loss: 0.1164 - acc: 0.9683 - val_loss: 0.1125 - val_acc: 0.9704\n",
      "Epoch 9/10\n",
      "31367/31367 [==============================] - 39s 1ms/step - loss: 0.1049 - acc: 0.9720 - val_loss: 0.1120 - val_acc: 0.9719\n",
      "Epoch 10/10\n",
      "31367/31367 [==============================] - 40s 1ms/step - loss: 0.0986 - acc: 0.9730 - val_loss: 0.0956 - val_acc: 0.9800\n"
     ]
    }
   ],
   "source": [
    "# TODO: Build a model\n",
    "from keras.models import Sequential\n",
    "from keras.layers.core import Dense, Flatten, Activation, Dropout\n",
    "from keras.layers import Convolution2D, pooling\n",
    "model = Sequential()\n",
    "model.add(Convolution2D(32, 3, 3, border_mode='valid', input_shape=(32,32,3)))\n",
    "model.add(pooling.MaxPooling2D(pool_size=(2, 2)))\n",
    "model.add(Dropout(0.5))\n",
    "model.add(Activation('relu'))\n",
    "model.add(Flatten()) \n",
    "model.add(Dense(128))\n",
    "model.add(Activation('relu'))\n",
    "model.add(Dense(43))\n",
    "model.add(Activation('softmax'))\n",
    "\n",
    "# TODO: Compile and train the model\n",
    "model.compile('adam', 'categorical_crossentropy', ['accuracy'])\n",
    "history = model.fit(X_normalized, y_one_hot, batch_size=128, nb_epoch=10, validation_split=0.2)\n"
   ]
  },
  {
   "cell_type": "markdown",
   "metadata": {
    "colab_type": "text",
    "id": "dtbr0R-piWSI"
   },
   "source": [
    "**Best Validation Accuracy:** 98.07%"
   ]
  },
  {
   "cell_type": "markdown",
   "metadata": {
    "colab_type": "text",
    "id": "5fOVgo94iWSJ"
   },
   "source": [
    "## Testing\n",
    "Once you've picked out your best model, it's time to test it.\n",
    "\n",
    "Load up the test data and use the [`evaluate()` method](https://keras.io/models/model/#evaluate) to see how well it does.\n",
    "\n",
    "Hint 1: The `evaluate()` method should return an array of numbers. Use the [`metrics_names`](https://keras.io/models/model/) property to get the labels."
   ]
  },
  {
   "cell_type": "code",
   "execution_count": 45,
   "metadata": {
    "colab": {
     "base_uri": "https://localhost:8080/",
     "height": 70
    },
    "colab_type": "code",
    "executionInfo": {
     "elapsed": 8187,
     "status": "ok",
     "timestamp": 1554309510625,
     "user": {
      "displayName": "Prashant Sahu",
      "photoUrl": "https://lh3.googleusercontent.com/-ompx6lyKrkc/AAAAAAAAAAI/AAAAAAAAALk/kbQk9IjXg44/s64/photo.jpg",
      "userId": "17861245123904241513"
     },
     "user_tz": -330
    },
    "id": "aRydySRQiWSJ",
    "outputId": "bcfb5c3f-e446-4170-a375-46058b738f9c"
   },
   "outputs": [
    {
     "name": "stdout",
     "output_type": "stream",
     "text": [
      "12630/12630 [==============================] - 6s 483us/step\n",
      "loss: 0.4715543721983193\n",
      "acc: 0.8998416468630871\n"
     ]
    }
   ],
   "source": [
    "# TODO: Load test data\n",
    "with open('test.p', 'rb') as f:\n",
    "    data = pickle.load(f)\n",
    "X_test = data['features']\n",
    "y_test = data['labels']\n",
    "\n",
    "# TODO: Normalize the data features to the variable X_normalized\n",
    "X_min = 0\n",
    "X_max = 255\n",
    "a = -0.5\n",
    "b = 0.5\n",
    "X_test_normalized = a + ((X_test - X_min)*(b-a)/ (X_max - X_min))\n",
    "\n",
    "# TODO: Preprocess data & one-hot encode the labels\n",
    "from sklearn import preprocessing \n",
    "lb = preprocessing.LabelBinarizer()\n",
    "lb.fit(y_test)\n",
    "y_test_one_hot =lb.transform(y_test)\n",
    "\n",
    "# TODO: Evaluate model on test data\n",
    "metrics = model.evaluate(X_test_normalized, y_test_one_hot)\n",
    "for metric_i in range(len(model.metrics_names)):\n",
    "    metric_name = model.metrics_names[metric_i]\n",
    "    metric_value = metrics[metric_i]\n",
    "    print('{}: {}'.format(metric_name, metric_value))"
   ]
  },
  {
   "cell_type": "markdown",
   "metadata": {
    "colab_type": "text",
    "id": "f138guYGiWSM"
   },
   "source": []
  },
  {
   "cell_type": "markdown",
   "metadata": {
    "colab_type": "text",
    "id": "JW71LiY9iWSN"
   },
   "source": []
  }
 ],
 "metadata": {
  "accelerator": "TPU",
  "colab": {
   "collapsed_sections": [],
   "name": "traffic_sign_classification_with_keras (1).ipynb",
   "provenance": [],
   "version": "0.3.2"
  },
  "kernelspec": {
   "display_name": "Python 3",
   "language": "python",
   "name": "python3"
  },
  "language_info": {
   "codemirror_mode": {
    "name": "ipython",
    "version": 3
   },
   "file_extension": ".py",
   "mimetype": "text/x-python",
   "name": "python",
   "nbconvert_exporter": "python",
   "pygments_lexer": "ipython3",
   "version": "3.6.4"
  }
 },
 "nbformat": 4,
 "nbformat_minor": 1
}
